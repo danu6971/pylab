{
 "cells": [
  {
   "cell_type": "code",
   "execution_count": 27,
   "id": "cbc8ea29-315f-4a41-8320-c9deaf1195c1",
   "metadata": {},
   "outputs": [
    {
     "name": "stdout",
     "output_type": "stream",
     "text": [
      "The largest number is: 80\n"
     ]
    }
   ],
   "source": [
    "num1 = 50\n",
    "num2 = 80\n",
    "largest = num1 if num1 > num2 else num2\n",
    "print(\"The largest number is:\", largest)"
   ]
  },
  {
   "cell_type": "code",
   "execution_count": null,
   "id": "e0849930-af6b-47f1-b10e-12fc72c4cd7a",
   "metadata": {},
   "outputs": [],
   "source": []
  }
 ],
 "metadata": {
  "kernelspec": {
   "display_name": "Python [conda env:base] *",
   "language": "python",
   "name": "conda-base-py"
  },
  "language_info": {
   "codemirror_mode": {
    "name": "ipython",
    "version": 3
   },
   "file_extension": ".py",
   "mimetype": "text/x-python",
   "name": "python",
   "nbconvert_exporter": "python",
   "pygments_lexer": "ipython3",
   "version": "3.12.7"
  }
 },
 "nbformat": 4,
 "nbformat_minor": 5
}
