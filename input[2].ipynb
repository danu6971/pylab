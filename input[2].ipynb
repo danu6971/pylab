{
 "cells": [
  {
   "cell_type": "code",
   "execution_count": 1,
   "id": "756e3091-35d1-404f-a83d-9e0513cf3ee5",
   "metadata": {},
   "outputs": [
    {
     "name": "stdout",
     "output_type": "stream",
     "text": [
      "Hello, my name is Dhanush, I am 21 years old, and I live in Banglore.\n"
     ]
    }
   ],
   "source": [
    "name = input(\"Enter your name: \")\n",
    "age = input(\"Enter your age: \")\n",
    "city = input(\"Enter your city: \")\n",
    "print(f\"Hello, my name is {name}, I am {age} years old, and I live in {city}.\")"
   ]
  },
  {
   "cell_type": "code",
   "execution_count": null,
   "id": "17466614-a864-4202-9793-ced676e301c3",
   "metadata": {},
   "outputs": [],
   "source": []
  }
 ],
 "metadata": {
  "kernelspec": {
   "display_name": "Python 3",
   "language": "python",
   "name": "python3"
  },
  "language_info": {
   "codemirror_mode": {
    "name": "ipython",
    "version": 3
   },
   "file_extension": ".py",
   "mimetype": "text/x-python",
   "name": "python",
   "nbconvert_exporter": "python",
   "pygments_lexer": "ipython3",
   "version": "3.13.2"
  }
 },
 "nbformat": 4,
 "nbformat_minor": 5
}
