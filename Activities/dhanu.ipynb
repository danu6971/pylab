{
 "cells": [
  {
   "cell_type": "code",
   "execution_count": 2,
   "id": "7e13c12a-e549-402a-a24e-5ecd0a5a7989",
   "metadata": {},
   "outputs": [
    {
     "name": "stdin",
     "output_type": "stream",
     "text": [
      "Enter your name:  Dhanush R\n",
      "Enter your age:  20\n",
      "Enter your city:  Bangalore\n"
     ]
    },
    {
     "name": "stdout",
     "output_type": "stream",
     "text": [
      "Hello, my name is Dhanush R, I am 20 years old, and I live in Bangalore.\n"
     ]
    }
   ],
   "source": [
    "name = input(\"Enter your name: \")\n",
    "age = input(\"Enter your age: \")\n",
    "city = input(\"Enter your city: \")\n",
    "print(f\"Hello, my name is {name}, I am {age} years old, and I live in {city}.\") "
   ]
  },
  {
   "cell_type": "code",
   "execution_count": null,
   "id": "619757cf-73e9-423d-80ef-37b917a3e780",
   "metadata": {},
   "outputs": [],
   "source": []
  }
 ],
 "metadata": {
  "kernelspec": {
   "display_name": "Python 3 (ipykernel)",
   "language": "python",
   "name": "python3"
  },
  "language_info": {
   "codemirror_mode": {
    "name": "ipython",
    "version": 3
   },
   "file_extension": ".py",
   "mimetype": "text/x-python",
   "name": "python",
   "nbconvert_exporter": "python",
   "pygments_lexer": "ipython3",
   "version": "3.12.7"
  }
 },
 "nbformat": 4,
 "nbformat_minor": 5
}
