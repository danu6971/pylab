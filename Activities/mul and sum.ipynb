{
 "cells": [
  {
   "cell_type": "code",
   "execution_count": 1,
   "id": "7e13c12a-e549-402a-a24e-5ecd0a5a7989",
   "metadata": {},
   "outputs": [
    {
     "name": "stdout",
     "output_type": "stream",
     "text": [
      "Sum of two numbers is: 30\n",
      "Multiplication of two numbers: 200\n"
     ]
    }
   ],
   "source": [
    "num1 = 10\n",
    "num2 = 20\n",
    "sum= num1 + num2\n",
    "multiply = num1 * num2\n",
    "print(\"Sum of two numbers is:\", sum)\n",
    "print(\"Multiplication of two numbers:\", multiply)"
   ]
  },
  {
   "cell_type": "code",
   "execution_count": null,
   "id": "619757cf-73e9-423d-80ef-37b917a3e780",
   "metadata": {},
   "outputs": [],
   "source": []
  }
 ],
 "metadata": {
  "kernelspec": {
   "display_name": "Python 3 (ipykernel)",
   "language": "python",
   "name": "python3"
  },
  "language_info": {
   "codemirror_mode": {
    "name": "ipython",
    "version": 3
   },
   "file_extension": ".py",
   "mimetype": "text/x-python",
   "name": "python",
   "nbconvert_exporter": "python",
   "pygments_lexer": "ipython3",
   "version": "3.12.7"
  }
 },
 "nbformat": 4,
 "nbformat_minor": 5
}
