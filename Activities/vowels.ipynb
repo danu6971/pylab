{
 "cells": [
  {
   "cell_type": "code",
   "execution_count": 1,
   "id": "7e13c12a-e549-402a-a24e-5ecd0a5a7989",
   "metadata": {},
   "outputs": [
    {
     "name": "stdout",
     "output_type": "stream",
     "text": [
      "3\n",
      "1\n",
      "6\n"
     ]
    }
   ],
   "source": [
    "def count_vowels(s):\n",
    "    vowels = \"aeiouAEIOU\"\n",
    "    return sum(1 for char in s if char in vowels)\n",
    "print(count_vowels(\"Hello World\"))   \n",
    "print(count_vowels(\"Python\"))        \n",
    "print(count_vowels(\"Beautiful Day\")) "
   ]
  },
  {
   "cell_type": "code",
   "execution_count": null,
   "id": "619757cf-73e9-423d-80ef-37b917a3e780",
   "metadata": {},
   "outputs": [],
   "source": []
  }
 ],
 "metadata": {
  "kernelspec": {
   "display_name": "Python 3 (ipykernel)",
   "language": "python",
   "name": "python3"
  },
  "language_info": {
   "codemirror_mode": {
    "name": "ipython",
    "version": 3
   },
   "file_extension": ".py",
   "mimetype": "text/x-python",
   "name": "python",
   "nbconvert_exporter": "python",
   "pygments_lexer": "ipython3",
   "version": "3.12.7"
  }
 },
 "nbformat": 4,
 "nbformat_minor": 5
}
